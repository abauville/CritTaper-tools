{
 "cells": [
  {
   "cell_type": "markdown",
   "metadata": {},
   "source": [
    "# A basic script to compute and visualize the critical taper envelope in the space alpha vs beta\n",
    "\n",
    "author: Arthur Bauville\n",
    "\n",
    "This script constructs the critical taper envelope (CTE) using the \n",
    "analytical solution of Lehner (1986).\n",
    "The nomenclature of angles follows Lehner (1986).\n",
    "The solution has been benchmark against the graphical method of Dahlen (1984).\n",
    "\n",
    "If you use this function please cite this repository and the original paper:\n",
    "cite 1\n",
    "cite 2\n",
    "\n",
    "### References:\n",
    "Dahlen, F. A. (1984). Noncohesive critical Coulomb wedges: An exact solution. \n",
    " Journal of Geophysical Research: Solid Earth, 89(B12):10125–10133.\n",
    " \n",
    "Lehner, F. K. (1986). Comments on \"Noncohesive critical Coulomb wedges: \n",
    " an exact solution\" by F. A Dahlen. Journal of Geophysical Research, \n",
    " 91(B1):793-796"
   ]
  },
  {
   "cell_type": "markdown",
   "metadata": {},
   "source": [
    "# MIT License\n",
    "\n",
    "Copyright (c) 2019 abauville\n",
    "\n",
    "Permission is hereby granted, free of charge, to any person obtaining a copy\n",
    "of this software and associated documentation files (the \"Software\"), to deal\n",
    "in the Software without restriction, including without limitation the rights\n",
    "to use, copy, modify, merge, publish, distribute, sublicense, and/or sell\n",
    "copies of the Software, and to permit persons to whom the Software is\n",
    "furnished to do so, subject to the following conditions:\n",
    "\n",
    "The above copyright notice and this permission notice shall be included in all\n",
    "copies or substantial portions of the Software.\n",
    "\n",
    "THE SOFTWARE IS PROVIDED \"AS IS\", WITHOUT WARRANTY OF ANY KIND, EXPRESS OR\n",
    "IMPLIED, INCLUDING BUT NOT LIMITED TO THE WARRANTIES OF MERCHANTABILITY,\n",
    "FITNESS FOR A PARTICULAR PURPOSE AND NONINFRINGEMENT. IN NO EVENT SHALL THE\n",
    "AUTHORS OR COPYRIGHT HOLDERS BE LIABLE FOR ANY CLAIM, DAMAGES OR OTHER\n",
    "LIABILITY, WHETHER IN AN ACTION OF CONTRACT, TORT OR OTHERWISE, ARISING FROM,\n",
    "OUT OF OR IN CONNECTION WITH THE SOFTWARE OR THE USE OR OTHER DEALINGS IN THE\n",
    "SOFTWARE."
   ]
  },
  {
   "cell_type": "code",
   "execution_count": 22,
   "metadata": {},
   "outputs": [],
   "source": [
    "# Libraries\n",
    "# ================================================\n",
    "import numpy as np\n",
    "import matplotlib.pyplot as plt\n",
    "from numpy import sin, tan, pi, arcsin, arctan\n",
    "\n",
    "# Units\n",
    "# ================================================\n",
    "deg = pi/180.0      # degrees, expressed in radians \n",
    "kg  = 1.0           # kilogram\n",
    "m   = 1.0           # m"
   ]
  },
  {
   "cell_type": "code",
   "execution_count": 35,
   "metadata": {},
   "outputs": [],
   "source": [
    "# Basic quantities\n",
    "# ================================================\n",
    "rho_w       = 1000.0 * kg/m**3  # water density\n",
    "rho         = 2500.0 * kg/m**3  # wedge density\n",
    "\n",
    "phi         = 30.0 * deg        # wedge friction angle\n",
    "phi_b       = 10.0 * deg        # base  friction angle\n",
    "\n",
    "Lambda      = 0.6               # wedge fluid pressure factor\n",
    "Lambda_b    = 0.9               # base  fluid pressure factor"
   ]
  },
  {
   "cell_type": "code",
   "execution_count": 36,
   "metadata": {},
   "outputs": [],
   "source": [
    "# Derivative quantities\n",
    "# ================================================\n",
    "Lambda_hydro = rho_w/rho                                # hydrostatic fluid pressure factor\n",
    "Lambda_ov    = 1.0 - (1.0-Lambda  )/(1.0-Lambda_hydro)  # wedge fluid overpressure factor\n",
    "Lambda_b_ov  = 1.0 - (1.0-Lambda_b)/(1.0-Lambda_hydro)  # base  fluid overpressure factor\n",
    "\n",
    "mu          = tan(phi)                                  # wedge friction coefficient\n",
    "mu_b        = tan(phi_b)                                # base  friction coefficient\n",
    "phi_b_p     = arctan(mu_b*(1.0-Lambda_b)/(1.0-Lambda))  # base effective friction angle\n",
    "\n",
    "alpha_m     = arctan((1.0-Lambda_b_ov)*mu_b)            # Left corner of the CTE\n",
    "alpha_max   = arctan((1.0-Lambda_ov)*mu)                # Angle of repose\n",
    "\n",
    "\n",
    "# Solution vectors\n",
    "# ================================================\n",
    "n = 1000 # number of points per segment\n",
    "nSeg = 4 # number of segment\n",
    "alpha_all = np.zeros(nSeg*n) # surface angles of all segments\n",
    "beta_all  = np.zeros(nSeg*n) # basal   angles of all segments\n",
    "# List containing the alpha values at beginning and end of segments\n",
    "alpha_list  = [alpha_m,alpha_max-1e-10,-alpha_m,-alpha_max+1e-10,alpha_m] \n",
    "# note: the term -1e-10 is to avoid nans (arcsin(1.0)=nan)"
   ]
  },
  {
   "cell_type": "code",
   "execution_count": 37,
   "metadata": {},
   "outputs": [],
   "source": [
    "# Compute beta as a function of alpha\n",
    "# ================================================\n",
    "for i in range(nSeg): # Loop through the 4 segments\n",
    "    alpha = np.linspace(alpha_list[i],alpha_list[i+1],n)# surface angle\n",
    "    alpha_p = arctan( 1.0/(1.0-Lambda_ov)*tan(alpha) )  # effective surface angle\n",
    "\n",
    "    theta = arcsin(sin(phi_b_p)/sin(phi))               # auxiliary friction angle\n",
    "    gamma = arcsin(sin(alpha_p)/sin(phi))               # auxiliary surface  angle\n",
    "        \n",
    "    if i%2==0:   psi_0 = 0.5*(-gamma - alpha_p + pi)    # psi_0 = psi_0_a\n",
    "    else:        psi_0 = 0.5*(+gamma - alpha_p)         # psi_0 = psi_0_p\n",
    "    \n",
    "    if i<2:      psi_b = 0.5*(-theta - phi_b_p + pi)    # psi_0 = pi/2-psi_b_1\n",
    "    else:        psi_b = 0.5*(+theta - phi_b_p)         # psi_0 = psi_b_3\n",
    "\n",
    "    beta =  psi_b-psi_0-alpha\n",
    "    beta[beta<-pi/4.0] += pi\n",
    "    \n",
    "    beta_all[i*n:(i+1)*n]   = beta\n",
    "    alpha_all[i*n:(i+1)*n]  = alpha\n",
    "# end of segment loop"
   ]
  },
  {
   "cell_type": "code",
   "execution_count": 38,
   "metadata": {},
   "outputs": [
    {
     "data": {
      "text/plain": [
       "Text(0, 0.5, '$\\\\alpha [°]$')"
      ]
     },
     "execution_count": 38,
     "metadata": {},
     "output_type": "execute_result"
    },
    {
     "data": {
      "image/png": "[encoded data removed]",
      "text/plain": [
       "<Figure size 432x288 with 1 Axes>"
      ]
     },
     "metadata": {
      "needs_background": "light"
     },
     "output_type": "display_data"
    }
   ],
   "source": [
    "# Plotting\n",
    "# ================================================\n",
    "plt.figure(1)\n",
    "plt.clf()       \n",
    "plt.fill(beta_all/deg,alpha_all/deg,facecolor=[.7,.9,.7],edgecolor='k',linewidth=1.0)\n",
    "plt.xlabel('$\\\\beta [°]$')\n",
    "plt.ylabel('$\\\\alpha [°]$')"
   ]
  },
  {
   "cell_type": "code",
   "execution_count": null,
   "metadata": {},
   "outputs": [],
   "source": []
  }
 ],
 "metadata": {
  "kernelspec": {
   "display_name": "Python 3",
   "language": "python",
   "name": "python3"
  },
  "language_info": {
   "codemirror_mode": {
    "name": "ipython",
    "version": 3
   },
   "file_extension": ".py",
   "mimetype": "text/x-python",
   "name": "python",
   "nbconvert_exporter": "python",
   "pygments_lexer": "ipython3",
   "version": "3.6.7"
  }
 },
 "nbformat": 4,
 "nbformat_minor": 2
}
